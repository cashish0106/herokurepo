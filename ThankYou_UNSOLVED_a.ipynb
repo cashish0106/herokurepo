{
 "cells": [
  {
   "cell_type": "code",
   "execution_count": null,
   "metadata": {},
   "outputs": [],
   "source": [
    "# Dependencies\n",
    "import numpy as np\n",
    "import tweepy\n",
    "import time\n",
    "import json\n"
   ]
  },
  {
   "cell_type": "code",
   "execution_count": null,
   "metadata": {},
   "outputs": [],
   "source": [
    "# Twitter API Keys\n",
    "consumer_key='tmGkLv7MOpKfPlwuPSewUyPA1'\n",
    "consumer_secret='KOt0e0rBj0MrvFsLZRAbKGeWI4mGUTAHVrZ93ZDWiZgLkXJ3aq'\n",
    "access_token='981679202536644609-0CzFxzp9ubxYvZ1IkyyMvBB7kMDneB2'\n",
    "access_token_secret='4WQP7Plar5xuKqjxBl3yAny4QF262ZM0rXZpWB8cNF066'"
   ]
  },
  {
   "cell_type": "code",
   "execution_count": null,
   "metadata": {},
   "outputs": [],
   "source": [
    "auth = tweepy.OAuthHandler(consumer_key, consumer_secret)\n",
    "auth.set_access_token(access_token, access_token_secret)\n",
    "api = tweepy.API(auth, parser=tweepy.parsers.JSONParser())\n"
   ]
  },
  {
   "cell_type": "code",
   "execution_count": null,
   "metadata": {},
   "outputs": [],
   "source": [
    "# Target Term\n",
    "target_term = \"@redhotmarket\"\n"
   ]
  },
  {
   "cell_type": "code",
   "execution_count": null,
   "metadata": {},
   "outputs": [],
   "source": [
    "# Opening message\n",
    "print(\"We're going live!\")"
   ]
  },
  {
   "cell_type": "code",
   "execution_count": null,
   "metadata": {},
   "outputs": [],
   "source": [
    "# Create Thank You Function\n",
    "id_list=[]\n",
    "def ThankYou():\n",
    "\n",
    "    # Search for all tweets\n",
    "    public_tweets = api.search(target_term, count=100, result_type=\"recent\")\n",
    "\n",
    "    # Loop through all tweets\n",
    "    for tweet in public_tweets[\"statuses\"]:\n",
    "        screen_name=tweet[\"user\"][\"screen_name\"]\n",
    "        tweet_id=tweet[\"id\"]\n",
    "        try:\n",
    "            if(tweet_id in id_list):\n",
    "                          print(\"Already tweeted\")\n",
    "            else:\n",
    "                          id_list.append(tweet_id)\n",
    "                          api.update_status(f\"@{screen_name} Thank you for your tweet.\",in_reply_to_status_id=tweet_id)\n",
    "                          print(f\"Replied to {screen_name}\")\n",
    "        except:\n",
    "                          print(\"Already tweeted.Ignoring\")\n"
   ]
  },
  {
   "cell_type": "code",
   "execution_count": null,
   "metadata": {},
   "outputs": [],
   "source": [
    "while(True):\n",
    "    ThankYou()\n",
    "    time.sleep(300)"
   ]
  },
  {
   "cell_type": "code",
   "execution_count": null,
   "metadata": {},
   "outputs": [],
   "source": []
  }
 ],
 "metadata": {
  "kernelspec": {
   "display_name": "Python 3",
   "language": "python",
   "name": "python3"
  },
  "language_info": {
   "codemirror_mode": {
    "name": "ipython",
    "version": 3
   },
   "file_extension": ".py",
   "mimetype": "text/x-python",
   "name": "python",
   "nbconvert_exporter": "python",
   "pygments_lexer": "ipython3",
   "version": "3.6.4"
  },
  "nteract": {
   "version": "0.8.4"
  }
 },
 "nbformat": 4,
 "nbformat_minor": 2
}
